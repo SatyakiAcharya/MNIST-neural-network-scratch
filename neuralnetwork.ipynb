{
 "cells": [
  {
   "cell_type": "code",
   "execution_count": 1,
   "metadata": {},
   "outputs": [],
   "source": [
    "import numpy as np\n",
    "import pandas as pd\n",
    "from matplotlib import pyplot as plt"
   ]
  },
  {
   "cell_type": "code",
   "execution_count": 2,
   "metadata": {},
   "outputs": [
    {
     "data": {
      "text/plain": [
       "<bound method NDFrame.head of        label  pixel0  pixel1  pixel2  pixel3  pixel4  pixel5  pixel6  pixel7  \\\n",
       "0          1       0       0       0       0       0       0       0       0   \n",
       "1          0       0       0       0       0       0       0       0       0   \n",
       "2          1       0       0       0       0       0       0       0       0   \n",
       "3          4       0       0       0       0       0       0       0       0   \n",
       "4          0       0       0       0       0       0       0       0       0   \n",
       "...      ...     ...     ...     ...     ...     ...     ...     ...     ...   \n",
       "41995      0       0       0       0       0       0       0       0       0   \n",
       "41996      1       0       0       0       0       0       0       0       0   \n",
       "41997      7       0       0       0       0       0       0       0       0   \n",
       "41998      6       0       0       0       0       0       0       0       0   \n",
       "41999      9       0       0       0       0       0       0       0       0   \n",
       "\n",
       "       pixel8  ...  pixel774  pixel775  pixel776  pixel777  pixel778  \\\n",
       "0           0  ...         0         0         0         0         0   \n",
       "1           0  ...         0         0         0         0         0   \n",
       "2           0  ...         0         0         0         0         0   \n",
       "3           0  ...         0         0         0         0         0   \n",
       "4           0  ...         0         0         0         0         0   \n",
       "...       ...  ...       ...       ...       ...       ...       ...   \n",
       "41995       0  ...         0         0         0         0         0   \n",
       "41996       0  ...         0         0         0         0         0   \n",
       "41997       0  ...         0         0         0         0         0   \n",
       "41998       0  ...         0         0         0         0         0   \n",
       "41999       0  ...         0         0         0         0         0   \n",
       "\n",
       "       pixel779  pixel780  pixel781  pixel782  pixel783  \n",
       "0             0         0         0         0         0  \n",
       "1             0         0         0         0         0  \n",
       "2             0         0         0         0         0  \n",
       "3             0         0         0         0         0  \n",
       "4             0         0         0         0         0  \n",
       "...         ...       ...       ...       ...       ...  \n",
       "41995         0         0         0         0         0  \n",
       "41996         0         0         0         0         0  \n",
       "41997         0         0         0         0         0  \n",
       "41998         0         0         0         0         0  \n",
       "41999         0         0         0         0         0  \n",
       "\n",
       "[42000 rows x 785 columns]>"
      ]
     },
     "execution_count": 2,
     "metadata": {},
     "output_type": "execute_result"
    }
   ],
   "source": [
    "df=pd.read_csv('dataset/train.csv')\n",
    "df.head"
   ]
  },
  {
   "cell_type": "code",
   "execution_count": 3,
   "metadata": {},
   "outputs": [],
   "source": [
    "df=np.array(df)\n",
    "m,n=df.shape\n",
    "np.random.shuffle(df)\n",
    "\n",
    "data=df[0:1000].T\n",
    "y=data[0]\n",
    "x=data[1:n]\n",
    "x=x/255\n",
    "\n",
    "data_train=df[1000:m].T\n",
    "y_train=data_train[0]\n",
    "x_train=data_train[1:n]\n",
    "x_train=x_train/255\n",
    "_,m_train=x_train.shape\n",
    "\n"
   ]
  },
  {
   "cell_type": "code",
   "execution_count": 4,
   "metadata": {},
   "outputs": [
    {
     "data": {
      "text/plain": [
       "(784,)"
      ]
     },
     "execution_count": 4,
     "metadata": {},
     "output_type": "execute_result"
    }
   ],
   "source": [
    "x_train[:,0].shape"
   ]
  },
  {
   "cell_type": "code",
   "execution_count": 5,
   "metadata": {},
   "outputs": [],
   "source": [
    "def init_params():\n",
    "    w1=np.random.rand(10,784)-0.5\n",
    "    b1=np.random.rand(10,1)-0.5\n",
    "    w2=np.random.rand(10,10)-0.5\n",
    "    b2=np.random.rand(10,1)-0.5\n",
    "    return w1,b1,w2,b2\n",
    "    \n",
    "def ReLU(z):\n",
    "    return np.maximum(z,0)\n",
    "\n",
    "def softmax(z):\n",
    "    a=np.exp(z)/sum(np.exp(z))\n",
    "    return a\n",
    "\n",
    "def forward_prop(w1,b1,w2,b2,x):\n",
    "    z1=w1.dot(x)+b1\n",
    "    a1=ReLU(z1)\n",
    "    z2=w2.dot(a1)+b2\n",
    "    a2=softmax(z2)\n",
    "    return z1,a1,z2,a2\n",
    "\n",
    "def ReLU_deriv(z):\n",
    "    return z>0\n",
    "\n",
    "def one_hot(y):\n",
    "    one_hot_y=np.zeros((y.size,y.max()+1))\n",
    "    one_hot_y[np.arange(y.size),y]=1\n",
    "    one_hot_y=one_hot_y.T\n",
    "    return one_hot_y\n",
    "\n",
    "def backward_prop(z1,a1,z2,a2,w1,w2,x,y):\n",
    "    one_hot_y=one_hot(y)\n",
    "    dz2=a2-one_hot_y\n",
    "    dw2=1/m*dz2.dot(a1.T)\n",
    "    db2=1/m*np.sum(dz2)\n",
    "    dz1=w2.T.dot(dz2)*ReLU_deriv(z1)\n",
    "    dw1=1/m*dz1.dot(x.T)\n",
    "    db1=1/m*np.sum(dz1)\n",
    "    return dw1,db1,dw2,db2\n",
    "\n",
    "def update_params(W1, b1, W2, b2, dW1, db1, dW2, db2, alpha):\n",
    "    W1 = W1 - alpha * dW1\n",
    "    b1 = b1 - alpha * db1    \n",
    "    W2 = W2 - alpha * dW2  \n",
    "    b2 = b2 - alpha * db2    \n",
    "    return W1, b1, W2, b2"
   ]
  },
  {
   "cell_type": "code",
   "execution_count": 6,
   "metadata": {},
   "outputs": [],
   "source": [
    "def get_predictions(a2):\n",
    "    return np.argmax(a2,0)\n",
    "\n",
    "def get_accuracy(predictions,y):\n",
    "    print(predictions, y)\n",
    "    return np.sum(predictions==y)/y.size\n",
    "\n",
    "def gradient_descent(x,y,alpha,iterations):\n",
    "    w1,b1,w2,b2=init_params()\n",
    "    for i in range(iterations):\n",
    "        z1,a1,z2,a2=forward_prop(w1,b1,w2,b2,x)\n",
    "        dw1,db1,dw2,db2=backward_prop(z1,a1,z2,a2,w1,w2,x,y)\n",
    "        w1,b1,w2,b2=update_params(w1,b1,w2,b2,dw1,db1,dw2,db2,alpha)\n",
    "        if i%10==0:\n",
    "            print(\"Iteration: \",i)\n",
    "            predictions=get_predictions(a2)\n",
    "            print(get_accuracy(predictions,y))\n",
    "            \n",
    "    return w1,b1,w2,b2"
   ]
  },
  {
   "cell_type": "code",
   "execution_count": 7,
   "metadata": {},
   "outputs": [
    {
     "name": "stdout",
     "output_type": "stream",
     "text": [
      "Iteration:  0\n",
      "[1 5 1 ... 2 5 1] [3 6 4 ... 9 2 5]\n",
      "0.08478048780487805\n",
      "Iteration:  10\n",
      "[6 5 4 ... 4 6 5] [3 6 4 ... 9 2 5]\n",
      "0.16251219512195123\n",
      "Iteration:  20\n",
      "[6 6 4 ... 4 3 5] [3 6 4 ... 9 2 5]\n",
      "0.22782926829268293\n",
      "Iteration:  30\n",
      "[6 6 4 ... 4 3 5] [3 6 4 ... 9 2 5]\n",
      "0.30614634146341463\n",
      "Iteration:  40\n",
      "[6 6 4 ... 4 8 5] [3 6 4 ... 9 2 5]\n",
      "0.36578048780487804\n",
      "Iteration:  50\n",
      "[6 6 4 ... 4 8 5] [3 6 4 ... 9 2 5]\n",
      "0.42029268292682925\n",
      "Iteration:  60\n",
      "[5 6 4 ... 4 8 5] [3 6 4 ... 9 2 5]\n",
      "0.4736341463414634\n",
      "Iteration:  70\n",
      "[5 2 4 ... 4 8 5] [3 6 4 ... 9 2 5]\n",
      "0.5292682926829269\n",
      "Iteration:  80\n",
      "[3 2 4 ... 4 2 5] [3 6 4 ... 9 2 5]\n",
      "0.5708292682926829\n",
      "Iteration:  90\n",
      "[3 2 4 ... 4 2 5] [3 6 4 ... 9 2 5]\n",
      "0.6003170731707317\n",
      "Iteration:  100\n",
      "[3 2 4 ... 4 2 5] [3 6 4 ... 9 2 5]\n",
      "0.6250243902439024\n",
      "Iteration:  110\n",
      "[3 2 4 ... 4 2 5] [3 6 4 ... 9 2 5]\n",
      "0.6438048780487805\n",
      "Iteration:  120\n",
      "[3 2 4 ... 4 2 5] [3 6 4 ... 9 2 5]\n",
      "0.6605853658536586\n",
      "Iteration:  130\n",
      "[3 2 4 ... 9 2 5] [3 6 4 ... 9 2 5]\n",
      "0.6750975609756098\n",
      "Iteration:  140\n",
      "[3 2 4 ... 9 2 5] [3 6 4 ... 9 2 5]\n",
      "0.6877073170731707\n",
      "Iteration:  150\n",
      "[3 2 4 ... 9 2 5] [3 6 4 ... 9 2 5]\n",
      "0.7006097560975609\n",
      "Iteration:  160\n",
      "[3 2 4 ... 9 2 5] [3 6 4 ... 9 2 5]\n",
      "0.7108292682926829\n",
      "Iteration:  170\n",
      "[3 2 4 ... 9 2 5] [3 6 4 ... 9 2 5]\n",
      "0.7206829268292683\n",
      "Iteration:  180\n",
      "[3 2 4 ... 9 2 5] [3 6 4 ... 9 2 5]\n",
      "0.7292439024390244\n",
      "Iteration:  190\n",
      "[3 2 4 ... 9 2 5] [3 6 4 ... 9 2 5]\n",
      "0.7378780487804878\n",
      "Iteration:  200\n",
      "[3 2 4 ... 9 2 5] [3 6 4 ... 9 2 5]\n",
      "0.7464634146341463\n",
      "Iteration:  210\n",
      "[3 2 4 ... 9 2 5] [3 6 4 ... 9 2 5]\n",
      "0.7533658536585366\n",
      "Iteration:  220\n",
      "[3 2 4 ... 9 2 5] [3 6 4 ... 9 2 5]\n",
      "0.7595121951219512\n",
      "Iteration:  230\n",
      "[3 2 4 ... 9 2 5] [3 6 4 ... 9 2 5]\n",
      "0.7649756097560976\n",
      "Iteration:  240\n",
      "[3 2 4 ... 9 2 5] [3 6 4 ... 9 2 5]\n",
      "0.7701463414634147\n",
      "Iteration:  250\n",
      "[3 2 4 ... 9 2 5] [3 6 4 ... 9 2 5]\n",
      "0.7758048780487805\n",
      "Iteration:  260\n",
      "[3 2 4 ... 9 2 5] [3 6 4 ... 9 2 5]\n",
      "0.7809268292682927\n",
      "Iteration:  270\n",
      "[3 2 4 ... 9 2 5] [3 6 4 ... 9 2 5]\n",
      "0.7851219512195122\n",
      "Iteration:  280\n",
      "[3 2 4 ... 9 2 5] [3 6 4 ... 9 2 5]\n",
      "0.7888048780487805\n",
      "Iteration:  290\n",
      "[3 2 4 ... 9 2 5] [3 6 4 ... 9 2 5]\n",
      "0.7920731707317074\n",
      "Iteration:  300\n",
      "[3 2 4 ... 9 2 5] [3 6 4 ... 9 2 5]\n",
      "0.7955121951219513\n",
      "Iteration:  310\n",
      "[3 2 4 ... 9 2 5] [3 6 4 ... 9 2 5]\n",
      "0.7993658536585366\n",
      "Iteration:  320\n",
      "[3 2 4 ... 9 2 5] [3 6 4 ... 9 2 5]\n",
      "0.802\n",
      "Iteration:  330\n",
      "[3 2 4 ... 9 2 5] [3 6 4 ... 9 2 5]\n",
      "0.8049268292682927\n",
      "Iteration:  340\n",
      "[3 2 4 ... 9 2 5] [3 6 4 ... 9 2 5]\n",
      "0.8080243902439025\n",
      "Iteration:  350\n",
      "[3 6 4 ... 9 2 5] [3 6 4 ... 9 2 5]\n",
      "0.8107804878048781\n",
      "Iteration:  360\n",
      "[3 6 4 ... 9 2 5] [3 6 4 ... 9 2 5]\n",
      "0.8130975609756097\n",
      "Iteration:  370\n",
      "[3 6 4 ... 9 2 5] [3 6 4 ... 9 2 5]\n",
      "0.8157317073170731\n",
      "Iteration:  380\n",
      "[3 6 4 ... 9 2 5] [3 6 4 ... 9 2 5]\n",
      "0.818390243902439\n",
      "Iteration:  390\n",
      "[3 6 4 ... 9 2 5] [3 6 4 ... 9 2 5]\n",
      "0.8210731707317073\n",
      "Iteration:  400\n",
      "[3 6 4 ... 9 2 5] [3 6 4 ... 9 2 5]\n",
      "0.8233658536585365\n",
      "Iteration:  410\n",
      "[3 6 4 ... 9 2 5] [3 6 4 ... 9 2 5]\n",
      "0.8256585365853658\n",
      "Iteration:  420\n",
      "[3 6 4 ... 9 2 5] [3 6 4 ... 9 2 5]\n",
      "0.8276341463414634\n",
      "Iteration:  430\n",
      "[3 6 4 ... 9 2 5] [3 6 4 ... 9 2 5]\n",
      "0.8295853658536585\n",
      "Iteration:  440\n",
      "[3 6 4 ... 9 2 5] [3 6 4 ... 9 2 5]\n",
      "0.8315609756097561\n",
      "Iteration:  450\n",
      "[3 6 4 ... 9 2 5] [3 6 4 ... 9 2 5]\n",
      "0.8339024390243902\n",
      "Iteration:  460\n",
      "[3 6 4 ... 9 2 5] [3 6 4 ... 9 2 5]\n",
      "0.8350243902439024\n",
      "Iteration:  470\n",
      "[3 6 4 ... 9 2 5] [3 6 4 ... 9 2 5]\n",
      "0.8365365853658536\n",
      "Iteration:  480\n",
      "[3 6 4 ... 9 2 5] [3 6 4 ... 9 2 5]\n",
      "0.8381463414634146\n",
      "Iteration:  490\n",
      "[3 6 4 ... 9 2 5] [3 6 4 ... 9 2 5]\n",
      "0.8394878048780487\n"
     ]
    }
   ],
   "source": [
    "w1,b1,w2,b2=gradient_descent(x_train,y_train,0.10,500)"
   ]
  },
  {
   "cell_type": "code",
   "execution_count": 8,
   "metadata": {},
   "outputs": [],
   "source": [
    "def make_predictions(x,w1,b1,w2,b2):\n",
    "    _,_,_,a2=forward_prop(w1,b1,w2,b2,x)\n",
    "    predictions=get_predictions(a2)\n",
    "    return predictions\n",
    "\n",
    "def test_predictions(index,w1,b1,w2,b2):\n",
    "    current_image=x_train[:,index,None]\n",
    "    prediction=make_predictions(x_train[:,index,None],w1,b1,w2,b2)\n",
    "    label=y_train[index]\n",
    "    print(\"prediction:\",prediction)\n",
    "    print(\"Label:\", label)\n",
    "    current_image=current_image.reshape((28,28))*255\n",
    "    plt.gray()\n",
    "    plt.imshow(current_image,interpolation='nearest')\n",
    "    plt.show()"
   ]
  },
  {
   "cell_type": "code",
   "execution_count": 9,
   "metadata": {},
   "outputs": [
    {
     "name": "stdout",
     "output_type": "stream",
     "text": [
      "prediction: [5]\n",
      "Label: 9\n"
     ]
    },
    {
     "data": {
      "image/png": "[encoded data removed]",
      "text/plain": [
       "<Figure size 640x480 with 1 Axes>"
      ]
     },
     "metadata": {},
     "output_type": "display_data"
    },
    {
     "name": "stdout",
     "output_type": "stream",
     "text": [
      "prediction: [8]\n",
      "Label: 8\n"
     ]
    },
    {
     "data": {
      "image/png": "[encoded data removed]",
      "text/plain": [
       "<Figure size 640x480 with 1 Axes>"
      ]
     },
     "metadata": {},
     "output_type": "display_data"
    },
    {
     "name": "stdout",
     "output_type": "stream",
     "text": [
      "prediction: [2]\n",
      "Label: 2\n"
     ]
    },
    {
     "data": {
      "image/png": "[encoded data removed]",
      "text/plain": [
       "<Figure size 640x480 with 1 Axes>"
      ]
     },
     "metadata": {},
     "output_type": "display_data"
    },
    {
     "name": "stdout",
     "output_type": "stream",
     "text": [
      "prediction: [2]\n",
      "Label: 2\n"
     ]
    },
    {
     "data": {
      "image/png": "[encoded data removed]",
      "text/plain": [
       "<Figure size 640x480 with 1 Axes>"
      ]
     },
     "metadata": {},
     "output_type": "display_data"
    },
    {
     "name": "stdout",
     "output_type": "stream",
     "text": [
      "prediction: [0]\n",
      "Label: 0\n"
     ]
    },
    {
     "data": {
      "image/png": "[encoded data removed]",
      "text/plain": [
       "<Figure size 640x480 with 1 Axes>"
      ]
     },
     "metadata": {},
     "output_type": "display_data"
    }
   ],
   "source": [
    "test_predictions(5,w1,b1,w2,b2)\n",
    "test_predictions(13,w1,b1,w2,b2)\n",
    "test_predictions(15,w1,b1,w2,b2)\n",
    "test_predictions(27,w1,b1,w2,b2)\n",
    "test_predictions(24,w1,b1,w2,b2)"
   ]
  },
  {
   "cell_type": "code",
   "execution_count": 10,
   "metadata": {},
   "outputs": [
    {
     "name": "stdout",
     "output_type": "stream",
     "text": [
      "[3 3 0 6 5 8 7 9 6 0 7 0 3 9 2 0 4 7 1 8 9 5 7 8 1 4 0 0 1 4 3 2 7 7 2 9 3\n",
      " 5 1 3 9 3 7 9 9 9 9 7 2 0 6 1 3 8 2 9 9 1 9 3 3 8 0 5 3 1 6 6 9 8 4 3 3 0\n",
      " 0 9 8 1 2 6 3 7 7 0 9 1 9 3 5 5 2 5 0 9 1 7 5 4 4 5 8 8 7 6 4 8 5 7 0 6 6\n",
      " 4 9 8 2 1 2 0 0 1 2 8 2 7 3 3 7 7 7 4 1 7 0 1 8 4 6 1 7 0 7 5 8 6 8 9 8 3\n",
      " 7 0 8 8 7 1 1 5 3 9 8 6 6 6 2 5 6 4 0 6 8 2 3 8 6 2 7 4 6 6 3 1 4 0 6 2 3\n",
      " 7 7 1 6 8 1 1 0 4 7 6 5 8 7 8 2 0 2 2 6 8 1 6 6 8 0 3 7 9 7 3 9 1 0 2 6 8\n",
      " 3 8 7 0 4 7 3 3 4 2 4 2 6 7 0 1 5 5 9 8 3 0 5 7 6 4 9 5 8 8 1 6 7 4 8 6 8\n",
      " 7 7 5 2 7 4 2 3 7 5 9 2 5 0 3 4 0 8 4 8 8 3 3 2 4 6 1 2 7 8 6 2 4 9 4 4 4\n",
      " 5 7 9 5 7 6 3 9 9 6 4 2 4 3 6 6 5 0 8 1 9 9 6 5 8 9 0 1 2 1 8 4 7 3 4 3 3\n",
      " 8 0 7 3 4 3 4 9 4 6 8 5 4 4 5 0 5 6 1 6 5 7 2 7 4 8 3 7 9 6 9 2 2 8 9 7 9\n",
      " 0 8 2 7 2 0 5 3 2 3 4 6 6 9 0 2 6 4 1 9 5 9 1 7 8 6 7 8 0 6 9 4 2 6 0 6 6\n",
      " 1 5 9 0 7 9 5 4 2 5 4 4 0 9 8 0 2 5 9 8 7 3 1 3 7 5 9 0 1 8 8 0 9 3 3 5 1\n",
      " 7 2 1 7 1 6 6 4 0 8 1 4 3 1 2 1 3 1 1 1 3 1 9 9 3 0 8 5 8 2 7 6 7 5 9 0 9\n",
      " 9 9 2 3 3 6 1 1 4 1 8 3 5 2 6 3 2 0 1 6 5 2 1 7 6 1 8 4 1 6 3 7 4 6 4 1 1\n",
      " 4 2 5 5 9 0 5 8 1 9 9 6 5 9 3 8 5 1 2 1 6 5 1 8 3 0 0 0 2 7 6 1 7 7 5 9 2\n",
      " 3 3 6 5 7 1 4 8 4 1 8 6 3 8 4 9 9 7 0 0 9 2 8 6 7 0 6 7 5 6 9 0 5 2 1 0 0\n",
      " 8 0 4 1 8 9 9 1 7 6 3 5 3 4 6 8 0 4 0 1 8 7 8 0 6 8 3 8 5 2 1 2 8 8 3 1 4\n",
      " 3 2 4 3 7 2 5 4 3 0 1 9 1 1 1 4 9 5 4 9 6 7 7 7 0 3 6 0 9 8 3 3 9 1 5 8 1\n",
      " 6 8 8 3 8 2 5 1 0 7 0 7 5 9 0 1 7 8 4 3 5 9 4 0 8 9 6 3 5 0 6 6 9 7 0 4 0\n",
      " 0 7 8 9 9 4 2 7 4 7 9 7 9 6 2 0 1 4 3 2 3 8 4 1 6 2 7 4 0 2 0 9 7 1 4 5 9\n",
      " 2 1 4 1 4 2 2 8 9 2 4 6 5 1 2 4 4 5 1 7 4 9 7 7 4 3 1 5 8 0 0 8 3 7 3 2 8\n",
      " 5 5 3 9 2 1 5 8 7 0 6 3 7 9 0 9 1 5 6 1 7 7 3 4 8 7 8 3 9 7 6 7 9 3 3 3 0\n",
      " 4 9 7 6 4 7 0 3 2 1 6 3 0 0 9 9 6 1 2 5 6 4 8 0 2 8 4 4 7 9 6 1 8 6 7 6 1\n",
      " 1 4 6 0 6 4 5 9 1 0 3 3 5 1 8 4 7 4 4 3 9 5 2 4 6 2 1 2 5 8 0 5 7 1 7 4 2\n",
      " 4 2 1 7 3 2 1 5 6 5 8 6 7 7 9 4 0 3 8 3 9 1 6 8 6 3 4 7 2 3 1 8 8 8 1 5 5\n",
      " 6 4 4 0 0 4 1 5 0 3 0 3 8 1 4 1 7 8 4 2 8 0 6 8 0 2 7 1 3 7 0 7 0 2 2 6 3\n",
      " 0 0 4 8 1 7 5 0 7 9 2 6 2 9 1 1 7 0 9 3 7 9 3 0 2 0 3 7 1 2 4 2 6 3 5 1 5\n",
      " 7] [3 3 0 6 5 8 7 9 8 0 7 0 8 9 2 0 7 7 1 6 9 5 7 8 1 4 0 0 1 4 3 2 7 7 2 4 3\n",
      " 5 1 3 9 3 7 7 4 9 9 2 3 0 2 1 3 8 2 9 5 1 9 3 3 3 0 5 2 1 6 6 3 8 2 3 5 0\n",
      " 0 9 8 1 2 6 3 7 7 7 9 1 7 3 5 5 2 5 0 9 1 7 5 4 4 5 8 8 7 6 4 2 3 7 0 6 6\n",
      " 4 4 3 2 1 2 0 0 1 2 8 2 7 3 3 7 7 7 4 1 7 0 1 8 4 6 1 8 0 7 5 8 6 8 9 8 9\n",
      " 7 0 5 1 7 1 1 5 3 9 8 6 6 6 2 5 6 4 0 6 8 2 3 8 2 2 7 4 6 6 3 1 4 0 5 6 9\n",
      " 7 7 1 6 8 7 1 0 4 3 5 3 3 7 8 2 0 2 2 6 3 1 6 6 8 0 3 7 9 7 3 9 1 0 2 6 8\n",
      " 2 8 7 0 4 7 5 3 9 2 4 2 6 7 0 1 4 5 4 8 3 0 5 7 6 2 9 5 2 1 1 6 7 9 8 2 8\n",
      " 7 7 5 3 7 4 2 3 7 5 9 2 5 0 3 9 0 8 4 8 8 1 8 2 4 2 1 8 7 5 5 2 4 4 4 4 4\n",
      " 5 7 4 5 7 6 3 9 9 6 4 3 7 2 6 6 5 0 8 1 9 8 6 5 8 5 0 1 2 1 8 4 7 3 6 3 2\n",
      " 8 0 7 9 4 3 5 9 4 6 8 5 4 4 5 0 8 6 1 6 5 7 2 7 4 8 2 7 8 6 8 2 5 8 9 7 9\n",
      " 0 8 2 7 2 0 5 3 6 3 4 6 6 9 0 2 6 4 1 9 4 9 1 9 8 6 7 8 0 4 9 4 2 6 0 6 6\n",
      " 1 5 7 0 9 4 5 4 2 5 2 4 0 9 8 0 2 8 9 8 7 3 1 5 7 5 9 6 1 8 8 0 9 3 0 5 1\n",
      " 3 2 1 7 1 6 6 4 0 5 8 9 3 1 4 1 3 1 1 1 3 1 7 7 5 0 2 5 8 7 7 6 7 5 9 0 4\n",
      " 9 9 2 3 3 6 1 1 4 1 8 3 5 2 6 3 2 0 1 6 5 2 1 7 6 1 8 4 1 6 3 7 9 6 4 8 1\n",
      " 4 2 3 6 4 2 5 8 1 9 4 6 5 3 3 8 8 1 2 1 6 5 1 8 3 0 0 0 2 7 6 1 7 7 3 9 2\n",
      " 3 3 2 5 9 1 4 8 4 1 8 6 5 8 4 9 9 7 0 0 7 2 4 6 3 0 6 7 5 6 9 9 5 8 1 0 0\n",
      " 8 0 4 1 2 4 9 1 7 5 3 5 3 4 6 8 0 4 0 1 8 7 8 0 6 8 3 8 3 2 1 2 8 8 8 1 4\n",
      " 5 2 4 3 7 2 3 4 3 0 1 9 1 1 1 4 4 5 4 9 6 7 7 7 0 3 6 0 9 8 5 3 9 1 0 8 1\n",
      " 6 8 3 3 8 2 5 1 0 7 0 7 5 9 0 1 7 3 4 3 5 9 4 0 8 9 6 3 5 0 6 6 9 7 7 4 0\n",
      " 0 7 8 9 4 4 9 7 4 7 4 7 9 6 2 0 1 4 3 2 3 8 4 1 6 2 7 4 0 2 0 9 7 8 4 5 9\n",
      " 2 1 4 1 4 6 2 8 9 2 4 6 5 1 2 4 4 5 1 7 4 9 7 7 4 3 1 5 8 0 0 8 3 7 5 2 8\n",
      " 5 5 3 4 2 7 5 8 7 0 6 3 7 9 0 9 1 5 6 1 7 7 3 4 8 7 2 5 9 7 6 9 9 3 3 3 0\n",
      " 4 9 7 6 4 7 0 3 2 1 6 3 0 0 4 7 2 1 2 3 6 9 8 0 2 4 4 4 7 9 6 1 8 6 7 0 1\n",
      " 1 4 6 0 6 4 3 9 1 0 3 3 5 1 8 4 7 9 4 3 9 6 2 4 6 2 1 2 8 8 0 5 7 1 7 4 2\n",
      " 4 2 1 7 3 2 1 5 6 5 8 6 7 7 9 4 0 2 8 3 9 1 6 8 6 5 9 7 2 8 1 8 8 8 1 8 5\n",
      " 3 4 4 0 5 4 1 5 0 3 0 3 9 1 4 1 7 8 4 2 8 0 2 8 0 2 9 1 3 7 0 7 0 2 2 6 3\n",
      " 0 0 4 8 1 7 2 0 7 7 2 6 2 9 1 1 7 0 7 2 7 4 3 0 4 0 3 7 1 2 4 2 6 3 5 1 5\n",
      " 7]\n"
     ]
    },
    {
     "data": {
      "text/plain": [
       "np.float64(0.838)"
      ]
     },
     "execution_count": 10,
     "metadata": {},
     "output_type": "execute_result"
    }
   ],
   "source": [
    "dev_predictions=make_predictions(x,w1,b1,w2,b2)\n",
    "get_accuracy(dev_predictions,y)"
   ]
  },
  {
   "cell_type": "code",
   "execution_count": null,
   "metadata": {},
   "outputs": [],
   "source": [
    "#approx 84% accuracy"
   ]
  }
 ],
 "metadata": {
  "kernelspec": {
   "display_name": "myenv",
   "language": "python",
   "name": "python3"
  },
  "language_info": {
   "codemirror_mode": {
    "name": "ipython",
    "version": 3
   },
   "file_extension": ".py",
   "mimetype": "text/x-python",
   "name": "python",
   "nbconvert_exporter": "python",
   "pygments_lexer": "ipython3",
   "version": "3.11.8"
  }
 },
 "nbformat": 4,
 "nbformat_minor": 2
}
